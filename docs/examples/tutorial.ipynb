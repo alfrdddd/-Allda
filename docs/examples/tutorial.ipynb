{
 "cells": [
  {
   "cell_type": "markdown",
   "id": "a3826095-17c5-4d0a-895c-507a522993b8",
   "metadata": {},
   "source": [
    "# Jupyter Notebook"
   ]
  },
  {
   "cell_type": "markdown",
   "id": "09851381-6996-48f6-9172-031d31826ffa",
   "metadata": {},
   "source": [
    "## Prerequisites\n",
    "\n",
    "AIMBAT can run in a Jupyter Notebook. However, as AIMBAT uses interactive GUI elements, we must specify\n",
    "that we want those to open inside the notebook rather than independant windows. For matplotlib this is\n",
    "done by using the Ipython magic command :"
   ]
  },
  {
   "cell_type": "code",
   "execution_count": 1,
   "id": "d02e153b-2ac2-4d47-86cf-a81d216ead75",
   "metadata": {
    "jupyter": {
     "is_executing": true
    }
   },
   "outputs": [],
   "source": [
    "%matplotlib widget"
   ]
  },
  {
   "cell_type": "markdown",
   "id": "ea2cd1cb-6050-4d55-82a4-de988a69af86",
   "metadata": {},
   "source": [
    "PyQtGraph requires an application to be instantiated:"
   ]
  },
  {
   "cell_type": "code",
   "execution_count": 2,
   "id": "1c3a9750-6053-4e32-9ed4-b598518aabd9",
   "metadata": {
    "jupyter": {
     "is_executing": true
    }
   },
   "outputs": [
    {
     "name": "stderr",
     "output_type": "stream",
     "text": [
      "qt.core.qobject.connect: QObject::connect(QStyleHints, QStyleHints): unique connections require a pointer to member function of a QObject subclass\n"
     ]
    }
   ],
   "source": [
    "import pyqtgraph as pg\n",
    "\n",
    "_ = pg.mkQApp()"
   ]
  },
  {
   "cell_type": "markdown",
   "id": "dfe9f0d4-c34e-4654-904d-9a13ffc8ac9f",
   "metadata": {},
   "source": [
    "## Environment Setup\n",
    "\n",
    "For this example project we create a temporary directory to store seismogram data, and a temporary file to store the aimbat project."
   ]
  },
  {
   "cell_type": "code",
   "execution_count": 3,
   "id": "41f45d85-10c4-404a-b97b-dfbea667f201",
   "metadata": {},
   "outputs": [],
   "source": [
    "import tempfile\n",
    "import os\n",
    "\n",
    "example_directory = tempfile.mkdtemp(prefix=\"aimbat_dir_\")\n",
    "example_project = tempfile.mktemp(prefix=\"aimbat_project_\", suffix=\".db\")\n",
    "os.environ[\"AIMBAT_PROJECT\"] = example_project"
   ]
  },
  {
   "cell_type": "markdown",
   "id": "20e404a3-8a7a-4190-8b2e-c634820888aa",
   "metadata": {},
   "source": [
    "<div class=\"admonition note\">\n",
    "    <p class=\"admonition-title\">Note</p>\n",
    "    <p>\n",
    "        By default, all AIMBAT commands assume the project a file called \"aimbat.db\" in the current directory. Here we override that behavior by settings\n",
    "    </p>\n",
    "</div>"
   ]
  },
  {
   "cell_type": "markdown",
   "id": "7642b2e5-7baa-45f4-ae94-767e49f85db5",
   "metadata": {},
   "source": [
    "## Create a new Project"
   ]
  },
  {
   "cell_type": "code",
   "execution_count": 4,
   "id": "33b378f1-cf7a-41f0-a3ec-934da5f6287e",
   "metadata": {
    "jupyter": {
     "is_executing": true
    }
   },
   "outputs": [],
   "source": [
    "from aimbat.lib.project import create_project, delete_project"
   ]
  },
  {
   "cell_type": "code",
   "execution_count": 5,
   "id": "a84a0ac6-dd6e-4d62-b0ff-f3a84fa80f10",
   "metadata": {},
   "outputs": [],
   "source": [
    "create_project()"
   ]
  },
  {
   "cell_type": "markdown",
   "id": "68afdc5a-ba07-4e3b-95a3-134e31eaef48",
   "metadata": {},
   "source": [
    "Creating an AIMBAT project creates a new sqlite file to store filepaths and processing data in. This also includes some defaults (which can be set on a per project basis too)."
   ]
  },
  {
   "cell_type": "code",
   "execution_count": 6,
   "id": "fb76e18e-8835-42f5-9eeb-86b30922aace",
   "metadata": {},
   "outputs": [],
   "source": [
    "from aimbat.lib.db import engine"
   ]
  },
  {
   "cell_type": "code",
   "execution_count": 7,
   "id": "df5b2b88-a113-426a-8d95-98b656d3944a",
   "metadata": {},
   "outputs": [],
   "source": [
    "from aimbat.lib.defaults import (\n",
    "    get_default,\n",
    "    set_default,\n",
    "    print_defaults_table,\n",
    ")"
   ]
  },
  {
   "cell_type": "code",
   "execution_count": 8,
   "id": "bd3fd354-ec47-42c1-b491-fe948459593a",
   "metadata": {
    "scrolled": true
   },
   "outputs": [
    {
     "ename": "KeyError",
     "evalue": "'aimbat'",
     "output_type": "error",
     "traceback": [
      "\u001b[0;31m---------------------------------------------------------------------------\u001b[0m",
      "\u001b[0;31mKeyError\u001b[0m                                  Traceback (most recent call last)",
      "Cell \u001b[0;32mIn[8], line 4\u001b[0m\n\u001b[1;32m      1\u001b[0m \u001b[38;5;28;01mfrom\u001b[39;00m \u001b[38;5;21;01msqlmodel\u001b[39;00m \u001b[38;5;28;01mimport\u001b[39;00m Session\n\u001b[1;32m      3\u001b[0m \u001b[38;5;28;01mwith\u001b[39;00m Session(engine) \u001b[38;5;28;01mas\u001b[39;00m session:\n\u001b[0;32m----> 4\u001b[0m     \u001b[43mprint_defaults_table\u001b[49m\u001b[43m(\u001b[49m\u001b[43msession\u001b[49m\u001b[43m)\u001b[49m\n",
      "File \u001b[0;32m~/Projects/pysmo/aimbat/aimbat/lib/defaults.py:80\u001b[0m, in \u001b[0;36mprint_defaults_table\u001b[0;34m(session)\u001b[0m\n\u001b[1;32m     75\u001b[0m     \u001b[38;5;28;01mif\u001b[39;00m key \u001b[38;5;241m==\u001b[39m \u001b[38;5;124m\"\u001b[39m\u001b[38;5;124mid\u001b[39m\u001b[38;5;124m\"\u001b[39m:\n\u001b[1;32m     76\u001b[0m         \u001b[38;5;28;01mcontinue\u001b[39;00m\n\u001b[1;32m     77\u001b[0m     table\u001b[38;5;241m.\u001b[39madd_row(\n\u001b[1;32m     78\u001b[0m         key,\n\u001b[1;32m     79\u001b[0m         \u001b[38;5;28mstr\u001b[39m(\u001b[38;5;28mgetattr\u001b[39m(aimbat_defaults, key)),\n\u001b[0;32m---> 80\u001b[0m         aimbat_defaults\u001b[38;5;241m.\u001b[39mdescription(\u001b[43mAimbatDefaultAttribute\u001b[49m\u001b[43m[\u001b[49m\u001b[43mkey\u001b[49m\u001b[43m]\u001b[49m),\n\u001b[1;32m     81\u001b[0m     )\n\u001b[1;32m     83\u001b[0m console \u001b[38;5;241m=\u001b[39m Console()\n\u001b[1;32m     84\u001b[0m console\u001b[38;5;241m.\u001b[39mprint(table)\n",
      "File \u001b[0;32m/nix/store/0b83hlniyfbpha92k2j0w93mxdalv8kb-python3-3.13.0/lib/python3.13/enum.py:782\u001b[0m, in \u001b[0;36mEnumType.__getitem__\u001b[0;34m(cls, name)\u001b[0m\n\u001b[1;32m    778\u001b[0m \u001b[38;5;28;01mdef\u001b[39;00m \u001b[38;5;21m__getitem__\u001b[39m(\u001b[38;5;28mcls\u001b[39m, name):\n\u001b[1;32m    779\u001b[0m \u001b[38;5;250m    \u001b[39m\u001b[38;5;124;03m\"\"\"\u001b[39;00m\n\u001b[1;32m    780\u001b[0m \u001b[38;5;124;03m    Return the member matching `name`.\u001b[39;00m\n\u001b[1;32m    781\u001b[0m \u001b[38;5;124;03m    \"\"\"\u001b[39;00m\n\u001b[0;32m--> 782\u001b[0m     \u001b[38;5;28;01mreturn\u001b[39;00m \u001b[38;5;28;43mcls\u001b[39;49m\u001b[38;5;241;43m.\u001b[39;49m\u001b[43m_member_map_\u001b[49m\u001b[43m[\u001b[49m\u001b[43mname\u001b[49m\u001b[43m]\u001b[49m\n",
      "\u001b[0;31mKeyError\u001b[0m: 'aimbat'"
     ]
    }
   ],
   "source": [
    "from sqlmodel import Session\n",
    "\n",
    "with Session(engine) as session:\n",
    "    print_defaults_table(session)"
   ]
  },
  {
   "cell_type": "markdown",
   "id": "e99b30ff-9fd0-43d9-b002-bff31a8c97c1",
   "metadata": {},
   "source": [
    "Let's change the `sampledata_dir` to the temporary location we created earlier:"
   ]
  },
  {
   "cell_type": "code",
   "execution_count": null,
   "id": "f4949828-6d7c-400a-aa76-0033772d1646",
   "metadata": {},
   "outputs": [],
   "source": [
    "with Session(engine) as session:\n",
    "    set_default(session, \"sampledata_dir\", example_directory)\n",
    "    print(\n",
    "        f\"The sampledata will be downloaded to {get_default(session, \"sampledata_dir\")}.\"\n",
    "    )"
   ]
  },
  {
   "cell_type": "code",
   "execution_count": null,
   "id": "2e42f65e-31d0-4c06-93ed-bee3881b8345",
   "metadata": {
    "scrolled": true
   },
   "outputs": [],
   "source": [
    "from aimbat.lib.utils.sampledata import download_sampledata, delete_sampledata\n",
    "from glob import glob\n",
    "\n",
    "with Session(engine) as session:\n",
    "    download_sampledata(session)\n",
    "    sampledata_directory = get_default(session, \"sampledata_dir\")\n",
    "    sacfiles = glob(sampledata_directory + \"/**/*.BHZ\", recursive=True)\n",
    "    print(f\"Downloaded {len(sacfiles)} files\")"
   ]
  },
  {
   "cell_type": "code",
   "execution_count": null,
   "id": "866c907c-8a12-4b5d-a184-bb3d0a86de36",
   "metadata": {},
   "outputs": [],
   "source": [
    "from aimbat.lib.data import add_files_to_project\n",
    "\n",
    "add_files_to_project(session, sacfiles, \"sac\")"
   ]
  },
  {
   "cell_type": "code",
   "execution_count": null,
   "id": "2c0aeea8-b93e-4db4-94f6-66083be9053f",
   "metadata": {},
   "outputs": [],
   "source": [
    "from aimbat.lib.utils import plotseis\n",
    "\n",
    "plotseis(session, event_id=1)\n",
    "plotseis(session, 1, use_qt=True)"
   ]
  },
  {
   "cell_type": "code",
   "execution_count": null,
   "id": "efddd52a-e3be-441a-89ba-635a67c55a7e",
   "metadata": {},
   "outputs": [],
   "source": [
    "with Session(engine) as session:\n",
    "    delete_sampledata(session)"
   ]
  },
  {
   "cell_type": "code",
   "execution_count": null,
   "id": "bdc56cd3-9e6a-47ae-8f81-9631c8281f39",
   "metadata": {},
   "outputs": [],
   "source": [
    "delete_project()"
   ]
  },
  {
   "cell_type": "code",
   "execution_count": null,
   "id": "e58fba9c-c16c-48d4-afb7-40380c353ed5",
   "metadata": {},
   "outputs": [],
   "source": []
  }
 ],
 "metadata": {
  "kernelspec": {
   "display_name": "Python 3 (ipykernel)",
   "language": "python",
   "name": "python3"
  },
  "language_info": {
   "codemirror_mode": {
    "name": "ipython",
    "version": 3
   },
   "file_extension": ".py",
   "mimetype": "text/x-python",
   "name": "python",
   "nbconvert_exporter": "python",
   "pygments_lexer": "ipython3",
   "version": "3.13.0"
  }
 },
 "nbformat": 4,
 "nbformat_minor": 5
}
